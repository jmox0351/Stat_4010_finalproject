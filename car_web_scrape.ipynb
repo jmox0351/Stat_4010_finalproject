{
 "cells": [
  {
   "cell_type": "code",
   "execution_count": 1,
   "metadata": {},
   "outputs": [],
   "source": [
    "import requests\n",
    "import re\n",
    "import pandas as pd\n",
    "from bs4 import BeautifulSoup"
   ]
  },
  {
   "cell_type": "code",
   "execution_count": 2,
   "metadata": {},
   "outputs": [],
   "source": [
    "pageNum = '1'\n",
    "urlCars = 'https://www.cars.com/for-sale/searchresults.action/?dealerType=all&page=' + pageNum + '&perPage=100&prMx=10000&rd=100&searchSource=GN_REFINEMENT&sort=relevance&stkTypId=28881&zc=80210'\n",
    "pageCars = requests.get(urlCars)\n",
    "soupCars = BeautifulSoup(pageCars.text, 'html.parser')"
   ]
  },
  {
   "cell_type": "code",
   "execution_count": 3,
   "metadata": {
    "scrolled": true
   },
   "outputs": [],
   "source": [
    "car_price_list = soupCars.find_all(class_ =\"listing-row__price\")\n",
    "year_make_modelCars = soupCars.find_all(class_ = \"listing-row__title\")\n",
    "millageCars = soupCars.find_all(class_ =\"listing-row__mileage\")\n",
    "ext_int_tran_driveCars = soupCars.find_all(class_ =\"listing-row__meta\")"
   ]
  },
  {
   "cell_type": "code",
   "execution_count": 4,
   "metadata": {
    "scrolled": false
   },
   "outputs": [
    {
     "name": "stdout",
     "output_type": "stream",
     "text": [
      "Reading 97 entries\n"
     ]
    }
   ],
   "source": [
    "print(\"Reading\",len(car_price_list),\"entries\")\n",
    "carPrices = []\n",
    "carNames = []\n",
    "carYears = []\n",
    "carMileages = []\n",
    "carTransmissions = []\n",
    "carDrivetrains = []\n",
    "for i in range(0,len(car_price_list)):\n",
    "    formatCarPrice = str(car_price_list[i].get_text()).lstrip()\n",
    "    formatCarName = str(year_make_modelCars[i].get_text()).lstrip()\n",
    "    formatMileage = str(millageCars[i].get_text()).lstrip()\n",
    "    formatExtIntTran = str(ext_int_tran_driveCars[i].get_text()).lstrip()\n",
    "\n",
    "    #Format car price\n",
    "    formatCarPrice = re.sub(r\"[\\n\\t]*\", \"\", formatCarPrice)\n",
    "    formatCarPrice = re.sub(r'\\D+', '', formatCarPrice)\n",
    "\n",
    "\n",
    "    #Format car name and year and split into seperate variables\n",
    "    formatCarName = re.sub(r\"[\\n\\t]*\", \"\", formatCarName)\n",
    "    formatYear =  re.findall(r'[0-9]{4}', formatCarName)\n",
    "    formatYear = str(formatYear[0])\n",
    "    formatCarName = re.sub(r'[0-9]{4}[ ]', '', formatCarName)\n",
    "\n",
    "    #Format mileage\n",
    "    formatMileage = re.sub(r\"[\\n\\t]*\", \"\", formatMileage)\n",
    "    formatMileage = re.sub(r'\\D+', '', formatMileage)\n",
    "\n",
    "    #Format ext int tran into transmission and mileage\n",
    "    formatExtIntTran = re.sub(r\"[\\n\\t\\s]*\", \"\", formatExtIntTran)\n",
    "    formatExtIntTran = re.split(r'Transmission:', formatExtIntTran)\n",
    "    formatExtIntTran = re.split(r'Drivetrain:', formatExtIntTran[1])\n",
    "    transmission = formatExtIntTran[0]\n",
    "    drivetrain = formatExtIntTran[1]\n",
    "    \n",
    "    carPrices.append(formatCarPrice)\n",
    "    carNames.append(formatCarName)\n",
    "    carYears.append(formatYear)\n",
    "    carMileages.append(formatMileage)\n",
    "    carTransmissions.append(transmission)\n",
    "    carDrivetrains.append(drivetrain)"
   ]
  },
  {
   "cell_type": "code",
   "execution_count": 5,
   "metadata": {},
   "outputs": [
    {
     "name": "stdout",
     "output_type": "stream",
     "text": [
      "Dataframe has 97 entries\n"
     ]
    }
   ],
   "source": [
    "listingObj = {\n",
    "    'cost': carPrices,\n",
    "    'name': carNames,\n",
    "    'year': carYears,\n",
    "    'mileage': carMileages,\n",
    "    'transmission': carTransmissions,\n",
    "    'drivetrain': carDrivetrains\n",
    "}\n",
    "\n",
    "listings = pd.DataFrame(listingObj)\n",
    "listings.head()\n",
    "print(\"Dataframe has\",len(listings.index),\"entries\")"
   ]
  },
  {
   "cell_type": "code",
   "execution_count": 9,
   "metadata": {},
   "outputs": [
    {
     "data": {
      "text/html": [
       "<div>\n",
       "<style scoped>\n",
       "    .dataframe tbody tr th:only-of-type {\n",
       "        vertical-align: middle;\n",
       "    }\n",
       "\n",
       "    .dataframe tbody tr th {\n",
       "        vertical-align: top;\n",
       "    }\n",
       "\n",
       "    .dataframe thead th {\n",
       "        text-align: right;\n",
       "    }\n",
       "</style>\n",
       "<table border=\"1\" class=\"dataframe\">\n",
       "  <thead>\n",
       "    <tr style=\"text-align: right;\">\n",
       "      <th></th>\n",
       "      <th>cost</th>\n",
       "      <th>name</th>\n",
       "      <th>year</th>\n",
       "      <th>mileage</th>\n",
       "      <th>transmission</th>\n",
       "      <th>drivetrain</th>\n",
       "    </tr>\n",
       "  </thead>\n",
       "  <tbody>\n",
       "    <tr>\n",
       "      <th>0</th>\n",
       "      <td>9337</td>\n",
       "      <td>Chevrolet Express AFTERMARKET STEREO          ...</td>\n",
       "      <td>2005</td>\n",
       "      <td>119276</td>\n",
       "      <td>Automatic</td>\n",
       "      <td>RWD</td>\n",
       "    </tr>\n",
       "    <tr>\n",
       "      <th>1</th>\n",
       "      <td>8990</td>\n",
       "      <td>Nissan Sentra SR</td>\n",
       "      <td>2016</td>\n",
       "      <td>16490</td>\n",
       "      <td>CVT</td>\n",
       "      <td>FWD</td>\n",
       "    </tr>\n",
       "    <tr>\n",
       "      <th>2</th>\n",
       "      <td>9895</td>\n",
       "      <td>Subaru Legacy 3.6R Limited                    ...</td>\n",
       "      <td>2012</td>\n",
       "      <td>38000</td>\n",
       "      <td>Automatic</td>\n",
       "      <td>AWD</td>\n",
       "    </tr>\n",
       "    <tr>\n",
       "      <th>3</th>\n",
       "      <td>7990</td>\n",
       "      <td>Subaru Legacy 2.5i Premium                    ...</td>\n",
       "      <td>2015</td>\n",
       "      <td>93550</td>\n",
       "      <td>CVT</td>\n",
       "      <td>AWD</td>\n",
       "    </tr>\n",
       "    <tr>\n",
       "      <th>4</th>\n",
       "      <td>7499</td>\n",
       "      <td>Subaru Impreza 2.0i Sport Premium             ...</td>\n",
       "      <td>2013</td>\n",
       "      <td>49728</td>\n",
       "      <td>Other/Unknown</td>\n",
       "      <td>AWD</td>\n",
       "    </tr>\n",
       "  </tbody>\n",
       "</table>\n",
       "</div>"
      ],
      "text/plain": [
       "   cost                                               name  year mileage  \\\n",
       "0  9337  Chevrolet Express AFTERMARKET STEREO          ...  2005  119276   \n",
       "1  8990           Nissan Sentra SR                          2016   16490   \n",
       "2  9895  Subaru Legacy 3.6R Limited                    ...  2012   38000   \n",
       "3  7990  Subaru Legacy 2.5i Premium                    ...  2015   93550   \n",
       "4  7499  Subaru Impreza 2.0i Sport Premium             ...  2013   49728   \n",
       "\n",
       "    transmission drivetrain  \n",
       "0      Automatic        RWD  \n",
       "1            CVT        FWD  \n",
       "2      Automatic        AWD  \n",
       "3            CVT        AWD  \n",
       "4  Other/Unknown        AWD  "
      ]
     },
     "execution_count": 9,
     "metadata": {},
     "output_type": "execute_result"
    }
   ],
   "source": [
    "car_price_list[1]\n",
    "final = listings\n",
    "final.head()"
   ]
  },
  {
   "cell_type": "code",
   "execution_count": 12,
   "metadata": {},
   "outputs": [
    {
     "name": "stdout",
     "output_type": "stream",
     "text": [
      "Reading 97 entries\n",
      "Dataframe has 97 entries\n",
      "Reading 97 entries\n",
      "Dataframe has 97 entries\n",
      "Reading 97 entries\n",
      "Dataframe has 97 entries\n",
      "Reading 97 entries\n",
      "Dataframe has 97 entries\n",
      "Reading 97 entries\n",
      "Dataframe has 97 entries\n",
      "Reading 97 entries\n",
      "Dataframe has 97 entries\n",
      "Reading 97 entries\n",
      "Dataframe has 97 entries\n",
      "Reading 97 entries\n",
      "Dataframe has 97 entries\n",
      "Reading 97 entries\n",
      "Dataframe has 97 entries\n",
      "Reading 97 entries\n",
      "Dataframe has 97 entries\n",
      "Reading 97 entries\n",
      "Dataframe has 97 entries\n",
      "Reading 97 entries\n",
      "Dataframe has 97 entries\n",
      "Reading 97 entries\n",
      "Dataframe has 97 entries\n",
      "Reading 97 entries\n",
      "Dataframe has 97 entries\n",
      "Reading 97 entries\n",
      "Dataframe has 97 entries\n",
      "Reading 97 entries\n",
      "Dataframe has 97 entries\n",
      "Reading 97 entries\n",
      "Dataframe has 97 entries\n",
      "Reading 97 entries\n",
      "Dataframe has 97 entries\n",
      "Reading 97 entries\n",
      "Dataframe has 97 entries\n",
      "Reading 97 entries\n",
      "Dataframe has 97 entries\n",
      "Reading 97 entries\n",
      "Dataframe has 97 entries\n",
      "Reading 97 entries\n",
      "Dataframe has 97 entries\n",
      "Reading 97 entries\n",
      "Dataframe has 97 entries\n",
      "Reading 97 entries\n",
      "Dataframe has 97 entries\n",
      "Reading 97 entries\n",
      "Dataframe has 97 entries\n",
      "Reading 97 entries\n",
      "Dataframe has 97 entries\n",
      "Reading 97 entries\n",
      "Dataframe has 97 entries\n",
      "Reading 97 entries\n",
      "Dataframe has 97 entries\n",
      "Reading 97 entries\n",
      "Dataframe has 97 entries\n",
      "Reading 97 entries\n",
      "Dataframe has 97 entries\n",
      "Reading 97 entries\n",
      "Dataframe has 97 entries\n",
      "Reading 97 entries\n",
      "Dataframe has 97 entries\n",
      "Reading 97 entries\n",
      "Dataframe has 97 entries\n",
      "Reading 97 entries\n",
      "Dataframe has 97 entries\n",
      "Reading 97 entries\n",
      "Dataframe has 97 entries\n",
      "Reading 97 entries\n",
      "Dataframe has 97 entries\n",
      "Reading 97 entries\n",
      "Dataframe has 97 entries\n"
     ]
    }
   ],
   "source": [
    "for i in range(2,39):\n",
    "    pageNum = 'i'\n",
    "    urlCars = 'https://www.cars.com/for-sale/searchresults.action/?dealerType=all&page=' + pageNum + '&perPage=100&prMx=10000&rd=100&searchSource=GN_REFINEMENT&sort=relevance&stkTypId=28881&zc=80210'\n",
    "    pageCars = requests.get(urlCars)\n",
    "    soupCars = BeautifulSoup(pageCars.text, 'html.parser')\n",
    "    car_price_list_temp = soupCars.find_all(class_ =\"listing-row__price\")\n",
    "    year_make_modelCars_temp = soupCars.find_all(class_ = \"listing-row__title\")\n",
    "    millageCars_temp = soupCars.find_all(class_ =\"listing-row__mileage\")\n",
    "    ext_int_tran_driveCars_temp = soupCars.find_all(class_ =\"listing-row__meta\")\n",
    "    print(\"Reading\",len(car_price_list),\"entries\")\n",
    "    carPrices = []\n",
    "    carNames = []\n",
    "    carYears = []\n",
    "    carMileages = []\n",
    "    carTransmissions = []\n",
    "    carDrivetrains = []\n",
    "    for i in range(0,len(car_price_list)):\n",
    "        formatCarPrice = str(car_price_list[i].get_text()).lstrip()\n",
    "        formatCarName = str(year_make_modelCars[i].get_text()).lstrip()\n",
    "        formatMileage = str(millageCars[i].get_text()).lstrip()\n",
    "        formatExtIntTran = str(ext_int_tran_driveCars[i].get_text()).lstrip()\n",
    "\n",
    "        #Format car price\n",
    "        formatCarPrice = re.sub(r\"[\\n\\t]*\", \"\", formatCarPrice)\n",
    "        formatCarPrice = re.sub(r'\\D+', '', formatCarPrice)\n",
    "\n",
    "\n",
    "        #Format car name and year and split into seperate variables\n",
    "        formatCarName = re.sub(r\"[\\n\\t]*\", \"\", formatCarName)\n",
    "        formatYear =  re.findall(r'[0-9]{4}', formatCarName)\n",
    "        formatYear = str(formatYear[0])\n",
    "        formatCarName = re.sub(r'[0-9]{4}[ ]', '', formatCarName)\n",
    "\n",
    "        #Format mileage\n",
    "        formatMileage = re.sub(r\"[\\n\\t]*\", \"\", formatMileage)\n",
    "        formatMileage = re.sub(r'\\D+', '', formatMileage)\n",
    "\n",
    "        #Format ext int tran into transmission and mileage\n",
    "        formatExtIntTran = re.sub(r\"[\\n\\t\\s]*\", \"\", formatExtIntTran)\n",
    "        formatExtIntTran = re.split(r'Transmission:', formatExtIntTran)\n",
    "        formatExtIntTran = re.split(r'Drivetrain:', formatExtIntTran[1])\n",
    "        transmission = formatExtIntTran[0]\n",
    "        drivetrain = formatExtIntTran[1]\n",
    "\n",
    "        carPrices.append(formatCarPrice)\n",
    "        carNames.append(formatCarName)\n",
    "        carYears.append(formatYear)\n",
    "        carMileages.append(formatMileage)\n",
    "        carTransmissions.append(transmission)\n",
    "        carDrivetrains.append(drivetrain)\n",
    "    listingObj = {\n",
    "    'cost': carPrices,\n",
    "    'name': carNames,\n",
    "    'year': carYears,\n",
    "    'mileage': carMileages,\n",
    "    'transmission': carTransmissions,\n",
    "    'drivetrain': carDrivetrains\n",
    "    }\n",
    "\n",
    "    listings = pd.DataFrame(listingObj)\n",
    "    listings.head()\n",
    "    print(\"Dataframe has\",len(listings.index),\"entries\")\n",
    "    final = final.append(listings)"
   ]
  },
  {
   "cell_type": "code",
   "execution_count": 21,
   "metadata": {},
   "outputs": [
    {
     "name": "stdout",
     "output_type": "stream",
     "text": [
      "Dataframe has 3686 entries\n"
     ]
    }
   ],
   "source": [
    "print(\"Dataframe has\",len(final.index),\"entries\")"
   ]
  },
  {
   "cell_type": "code",
   "execution_count": 22,
   "metadata": {},
   "outputs": [
    {
     "ename": "SyntaxError",
     "evalue": "invalid syntax (<ipython-input-22-ed2f1a8daf39>, line 1)",
     "output_type": "error",
     "traceback": [
      "\u001b[1;36m  File \u001b[1;32m\"<ipython-input-22-ed2f1a8daf39>\"\u001b[1;36m, line \u001b[1;32m1\u001b[0m\n\u001b[1;33m    final.to_csv(r 'C:\\User\\Jacob\\Documents\\personal\\Stat 4010\\DenData.csv')\u001b[0m\n\u001b[1;37m                                                                          ^\u001b[0m\n\u001b[1;31mSyntaxError\u001b[0m\u001b[1;31m:\u001b[0m invalid syntax\n"
     ]
    }
   ],
   "source": [
    "final.to_csv(r 'C:\\User\\Jacob\\Documents\\personal\\Stat 4010\\DenData.csv')"
   ]
  },
  {
   "cell_type": "code",
   "execution_count": 26,
   "metadata": {},
   "outputs": [
    {
     "ename": "KeyError",
     "evalue": "\"None of [Int64Index([100], dtype='int64')] are in the [index]\"",
     "output_type": "error",
     "traceback": [
      "\u001b[1;31m---------------------------------------------------------------------------\u001b[0m",
      "\u001b[1;31mKeyError\u001b[0m                                  Traceback (most recent call last)",
      "\u001b[1;32m<ipython-input-26-47e20a5c86fe>\u001b[0m in \u001b[0;36m<module>\u001b[1;34m\u001b[0m\n\u001b[1;32m----> 1\u001b[1;33m \u001b[0mfinal\u001b[0m\u001b[1;33m.\u001b[0m\u001b[0mloc\u001b[0m\u001b[1;33m[\u001b[0m\u001b[1;33m[\u001b[0m\u001b[1;36m100\u001b[0m\u001b[1;33m]\u001b[0m\u001b[1;33m]\u001b[0m\u001b[1;33m\u001b[0m\u001b[1;33m\u001b[0m\u001b[0m\n\u001b[0m",
      "\u001b[1;32m~\\Documents\\anaconda\\envs\\rstudio\\lib\\site-packages\\pandas\\core\\indexing.py\u001b[0m in \u001b[0;36m__getitem__\u001b[1;34m(self, key)\u001b[0m\n\u001b[0;32m   1765\u001b[0m \u001b[1;33m\u001b[0m\u001b[0m\n\u001b[0;32m   1766\u001b[0m             \u001b[0mmaybe_callable\u001b[0m \u001b[1;33m=\u001b[0m \u001b[0mcom\u001b[0m\u001b[1;33m.\u001b[0m\u001b[0mapply_if_callable\u001b[0m\u001b[1;33m(\u001b[0m\u001b[0mkey\u001b[0m\u001b[1;33m,\u001b[0m \u001b[0mself\u001b[0m\u001b[1;33m.\u001b[0m\u001b[0mobj\u001b[0m\u001b[1;33m)\u001b[0m\u001b[1;33m\u001b[0m\u001b[1;33m\u001b[0m\u001b[0m\n\u001b[1;32m-> 1767\u001b[1;33m             \u001b[1;32mreturn\u001b[0m \u001b[0mself\u001b[0m\u001b[1;33m.\u001b[0m\u001b[0m_getitem_axis\u001b[0m\u001b[1;33m(\u001b[0m\u001b[0mmaybe_callable\u001b[0m\u001b[1;33m,\u001b[0m \u001b[0maxis\u001b[0m\u001b[1;33m=\u001b[0m\u001b[0maxis\u001b[0m\u001b[1;33m)\u001b[0m\u001b[1;33m\u001b[0m\u001b[1;33m\u001b[0m\u001b[0m\n\u001b[0m\u001b[0;32m   1768\u001b[0m \u001b[1;33m\u001b[0m\u001b[0m\n\u001b[0;32m   1769\u001b[0m     \u001b[1;32mdef\u001b[0m \u001b[0m_is_scalar_access\u001b[0m\u001b[1;33m(\u001b[0m\u001b[0mself\u001b[0m\u001b[1;33m,\u001b[0m \u001b[0mkey\u001b[0m\u001b[1;33m:\u001b[0m \u001b[0mTuple\u001b[0m\u001b[1;33m)\u001b[0m\u001b[1;33m:\u001b[0m\u001b[1;33m\u001b[0m\u001b[1;33m\u001b[0m\u001b[0m\n",
      "\u001b[1;32m~\\Documents\\anaconda\\envs\\rstudio\\lib\\site-packages\\pandas\\core\\indexing.py\u001b[0m in \u001b[0;36m_getitem_axis\u001b[1;34m(self, key, axis)\u001b[0m\n\u001b[0;32m   1951\u001b[0m                     \u001b[1;32mraise\u001b[0m \u001b[0mValueError\u001b[0m\u001b[1;33m(\u001b[0m\u001b[1;34m\"Cannot index with multidimensional key\"\u001b[0m\u001b[1;33m)\u001b[0m\u001b[1;33m\u001b[0m\u001b[1;33m\u001b[0m\u001b[0m\n\u001b[0;32m   1952\u001b[0m \u001b[1;33m\u001b[0m\u001b[0m\n\u001b[1;32m-> 1953\u001b[1;33m                 \u001b[1;32mreturn\u001b[0m \u001b[0mself\u001b[0m\u001b[1;33m.\u001b[0m\u001b[0m_getitem_iterable\u001b[0m\u001b[1;33m(\u001b[0m\u001b[0mkey\u001b[0m\u001b[1;33m,\u001b[0m \u001b[0maxis\u001b[0m\u001b[1;33m=\u001b[0m\u001b[0maxis\u001b[0m\u001b[1;33m)\u001b[0m\u001b[1;33m\u001b[0m\u001b[1;33m\u001b[0m\u001b[0m\n\u001b[0m\u001b[0;32m   1954\u001b[0m \u001b[1;33m\u001b[0m\u001b[0m\n\u001b[0;32m   1955\u001b[0m             \u001b[1;31m# nested tuple slicing\u001b[0m\u001b[1;33m\u001b[0m\u001b[1;33m\u001b[0m\u001b[1;33m\u001b[0m\u001b[0m\n",
      "\u001b[1;32m~\\Documents\\anaconda\\envs\\rstudio\\lib\\site-packages\\pandas\\core\\indexing.py\u001b[0m in \u001b[0;36m_getitem_iterable\u001b[1;34m(self, key, axis)\u001b[0m\n\u001b[0;32m   1592\u001b[0m         \u001b[1;32melse\u001b[0m\u001b[1;33m:\u001b[0m\u001b[1;33m\u001b[0m\u001b[1;33m\u001b[0m\u001b[0m\n\u001b[0;32m   1593\u001b[0m             \u001b[1;31m# A collection of keys\u001b[0m\u001b[1;33m\u001b[0m\u001b[1;33m\u001b[0m\u001b[1;33m\u001b[0m\u001b[0m\n\u001b[1;32m-> 1594\u001b[1;33m             \u001b[0mkeyarr\u001b[0m\u001b[1;33m,\u001b[0m \u001b[0mindexer\u001b[0m \u001b[1;33m=\u001b[0m \u001b[0mself\u001b[0m\u001b[1;33m.\u001b[0m\u001b[0m_get_listlike_indexer\u001b[0m\u001b[1;33m(\u001b[0m\u001b[0mkey\u001b[0m\u001b[1;33m,\u001b[0m \u001b[0maxis\u001b[0m\u001b[1;33m,\u001b[0m \u001b[0mraise_missing\u001b[0m\u001b[1;33m=\u001b[0m\u001b[1;32mFalse\u001b[0m\u001b[1;33m)\u001b[0m\u001b[1;33m\u001b[0m\u001b[1;33m\u001b[0m\u001b[0m\n\u001b[0m\u001b[0;32m   1595\u001b[0m             return self.obj._reindex_with_indexers(\n\u001b[0;32m   1596\u001b[0m                 \u001b[1;33m{\u001b[0m\u001b[0maxis\u001b[0m\u001b[1;33m:\u001b[0m \u001b[1;33m[\u001b[0m\u001b[0mkeyarr\u001b[0m\u001b[1;33m,\u001b[0m \u001b[0mindexer\u001b[0m\u001b[1;33m]\u001b[0m\u001b[1;33m}\u001b[0m\u001b[1;33m,\u001b[0m \u001b[0mcopy\u001b[0m\u001b[1;33m=\u001b[0m\u001b[1;32mTrue\u001b[0m\u001b[1;33m,\u001b[0m \u001b[0mallow_dups\u001b[0m\u001b[1;33m=\u001b[0m\u001b[1;32mTrue\u001b[0m\u001b[1;33m\u001b[0m\u001b[1;33m\u001b[0m\u001b[0m\n",
      "\u001b[1;32m~\\Documents\\anaconda\\envs\\rstudio\\lib\\site-packages\\pandas\\core\\indexing.py\u001b[0m in \u001b[0;36m_get_listlike_indexer\u001b[1;34m(self, key, axis, raise_missing)\u001b[0m\n\u001b[0;32m   1550\u001b[0m \u001b[1;33m\u001b[0m\u001b[0m\n\u001b[0;32m   1551\u001b[0m         self._validate_read_indexer(\n\u001b[1;32m-> 1552\u001b[1;33m             \u001b[0mkeyarr\u001b[0m\u001b[1;33m,\u001b[0m \u001b[0mindexer\u001b[0m\u001b[1;33m,\u001b[0m \u001b[0mo\u001b[0m\u001b[1;33m.\u001b[0m\u001b[0m_get_axis_number\u001b[0m\u001b[1;33m(\u001b[0m\u001b[0maxis\u001b[0m\u001b[1;33m)\u001b[0m\u001b[1;33m,\u001b[0m \u001b[0mraise_missing\u001b[0m\u001b[1;33m=\u001b[0m\u001b[0mraise_missing\u001b[0m\u001b[1;33m\u001b[0m\u001b[1;33m\u001b[0m\u001b[0m\n\u001b[0m\u001b[0;32m   1553\u001b[0m         )\n\u001b[0;32m   1554\u001b[0m         \u001b[1;32mreturn\u001b[0m \u001b[0mkeyarr\u001b[0m\u001b[1;33m,\u001b[0m \u001b[0mindexer\u001b[0m\u001b[1;33m\u001b[0m\u001b[1;33m\u001b[0m\u001b[0m\n",
      "\u001b[1;32m~\\Documents\\anaconda\\envs\\rstudio\\lib\\site-packages\\pandas\\core\\indexing.py\u001b[0m in \u001b[0;36m_validate_read_indexer\u001b[1;34m(self, key, indexer, axis, raise_missing)\u001b[0m\n\u001b[0;32m   1637\u001b[0m             \u001b[1;32mif\u001b[0m \u001b[0mmissing\u001b[0m \u001b[1;33m==\u001b[0m \u001b[0mlen\u001b[0m\u001b[1;33m(\u001b[0m\u001b[0mindexer\u001b[0m\u001b[1;33m)\u001b[0m\u001b[1;33m:\u001b[0m\u001b[1;33m\u001b[0m\u001b[1;33m\u001b[0m\u001b[0m\n\u001b[0;32m   1638\u001b[0m                 \u001b[0maxis_name\u001b[0m \u001b[1;33m=\u001b[0m \u001b[0mself\u001b[0m\u001b[1;33m.\u001b[0m\u001b[0mobj\u001b[0m\u001b[1;33m.\u001b[0m\u001b[0m_get_axis_name\u001b[0m\u001b[1;33m(\u001b[0m\u001b[0maxis\u001b[0m\u001b[1;33m)\u001b[0m\u001b[1;33m\u001b[0m\u001b[1;33m\u001b[0m\u001b[0m\n\u001b[1;32m-> 1639\u001b[1;33m                 \u001b[1;32mraise\u001b[0m \u001b[0mKeyError\u001b[0m\u001b[1;33m(\u001b[0m\u001b[1;34mf\"None of [{key}] are in the [{axis_name}]\"\u001b[0m\u001b[1;33m)\u001b[0m\u001b[1;33m\u001b[0m\u001b[1;33m\u001b[0m\u001b[0m\n\u001b[0m\u001b[0;32m   1640\u001b[0m \u001b[1;33m\u001b[0m\u001b[0m\n\u001b[0;32m   1641\u001b[0m             \u001b[1;31m# We (temporarily) allow for some missing keys with .loc, except in\u001b[0m\u001b[1;33m\u001b[0m\u001b[1;33m\u001b[0m\u001b[1;33m\u001b[0m\u001b[0m\n",
      "\u001b[1;31mKeyError\u001b[0m: \"None of [Int64Index([100], dtype='int64')] are in the [index]\""
     ]
    }
   ],
   "source": [
    "final.loc[[100]]"
   ]
  },
  {
   "cell_type": "code",
   "execution_count": null,
   "metadata": {},
   "outputs": [],
   "source": []
  }
 ],
 "metadata": {
  "kernelspec": {
   "display_name": "Python 3",
   "language": "python",
   "name": "python3"
  },
  "language_info": {
   "codemirror_mode": {
    "name": "ipython",
    "version": 3
   },
   "file_extension": ".py",
   "mimetype": "text/x-python",
   "name": "python",
   "nbconvert_exporter": "python",
   "pygments_lexer": "ipython3",
   "version": "3.6.10"
  }
 },
 "nbformat": 4,
 "nbformat_minor": 2
}
